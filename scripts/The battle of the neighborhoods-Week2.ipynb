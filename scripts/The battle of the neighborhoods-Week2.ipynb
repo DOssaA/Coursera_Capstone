{
 "cells": [
  {
   "cell_type": "markdown",
   "metadata": {},
   "source": [
    "# The Battle of the neighborhoods"
   ]
  },
  {
   "cell_type": "markdown",
   "metadata": {},
   "source": [
    "## Table of contents\n",
    "* [Introduction](#introduction)\n",
    "* [Data](#data)\n",
    "* [Methodology](#methodology)\n",
    "* [Analysis](#analysis)\n",
    "* [Results and Discussion](#results)\n",
    "* [Conclusion](#conclusion)"
   ]
  },
  {
   "cell_type": "markdown",
   "metadata": {},
   "source": [
    "## Introduction:  <a name=\"introduction\"></a>"
   ]
  },
  {
   "cell_type": "markdown",
   "metadata": {},
   "source": [
    "A young adult is in the process of making a decision of where to buy a property to live there but is undecided on in which city and neighborhood should he buy it. He currently wants to compare and have a recommendation about neighborhoods in two cities in South America where he has family: Santiago de Chile, Chile and Cali, Colombia, specifically in the communes of Ñuñoa and #22 respectively."
   ]
  },
  {
   "cell_type": "markdown",
   "metadata": {},
   "source": [
    "This kind of problem of deciding where to buy is very important since the price of a property is higher than other kind of purchases and people usually get indebted for many years. The place where you will live for many or some years can determine the time you take to get to work or study, the perceived security, food you can get by foot or in the surroundings and in summary the quality of life.\n",
    "\n",
    "For this project the focus will be on comparing the neighborhoods of both communes, in the cities mentioned, with a variety of spaces such as markets, gyms, parks that are at least perceived as good and can make a place more worthy to live there."
   ]
  },
  {
   "cell_type": "markdown",
   "metadata": {},
   "source": [
    "## Data <a name=\"data\"></a>"
   ]
  },
  {
   "cell_type": "markdown",
   "metadata": {},
   "source": [
    "Information about neighborhoods about commune 22 in Cali can be found in https://es.wikipedia.org/wiki/Comuna_22_(Cali)\n",
    "Information about neighborhoods in Ñuñoa, Chile can be found in https://es.wikipedia.org/wiki/%C3%91u%C3%B1oa. Since both links only provide information about the name of the Neighborhoods location data will be retrieved from geocoder library: https://geocoder.readthedocs.io/index.html."
   ]
  },
  {
   "cell_type": "markdown",
   "metadata": {},
   "source": [
    "Information for the recommended neighborhoods will be fetched from the Foursquare API using the _explore_ endpoint to get an idea about the nearby venues and later classify it.\n",
    "\n",
    ">`https://api.foursquare.com/v2/venues/`**explore**`?client_id=`**CLIENT_ID**`&client_secret=`**CLIENT_SECRET**`&ll=`**LATITUDE**`,`**LONGITUDE**`&v=`**VERSION**`&limit=`**LIMIT**\n",
    "\n",
    "and _likes_ endpoint for how users qualify them:\n",
    "> `https://api.foursquare.com/v2/venues/`**VENUE_ID**`/likes?client_id=`**CLIENT_ID**`&client_secret=`**CLIENT_SECRET**`&v=`**VERSION**`&limit=`**LIMIT**"
   ]
  },
  {
   "cell_type": "code",
   "execution_count": 1,
   "metadata": {},
   "outputs": [],
   "source": [
    "import requests # library to handle requests\n",
    "import numpy as np # library to handle data in a vectorized manner\n",
    "import pandas as pd # library for data analsysis\n",
    "pd.set_option('display.max_columns', None)\n",
    "pd.set_option('display.max_rows', None)\n",
    "import json # library to handle JSON files\n",
    "from pandas.io.json import json_normalize # tranform JSON file into a pandas dataframe"
   ]
  },
  {
   "cell_type": "markdown",
   "metadata": {},
   "source": [
    "#### First get the neighborhoods"
   ]
  },
  {
   "cell_type": "code",
   "execution_count": 3,
   "metadata": {},
   "outputs": [
    {
     "data": {
      "text/plain": [
       "['Urbanización Ciudad Jardín',\n",
       " 'Altos de Ciudad de Jardín',\n",
       " 'La Bocha',\n",
       " 'Bochalema',\n",
       " 'Parcelaciones Pance',\n",
       " 'Urbanización Río Lili',\n",
       " 'Alférez Real',\n",
       " 'Ciudad Campestre',\n",
       " 'Ciudad Pacífica']"
      ]
     },
     "execution_count": 3,
     "metadata": {},
     "output_type": "execute_result"
    }
   ],
   "source": [
    "from bs4 import BeautifulSoup\n",
    "cali_communes_text = requests.get('https://es.wikipedia.org/wiki/Comuna_22_(Cali)').text\n",
    "soup = BeautifulSoup(cali_communes_text, 'html.parser')\n",
    "c_neighborhoods = [(raw_neighborhood.string) for raw_neighborhood in soup.find_all('ul')[0].find_all('li')]\n",
    "c_neighborhoods"
   ]
  },
  {
   "cell_type": "code",
   "execution_count": 4,
   "metadata": {
    "scrolled": true
   },
   "outputs": [
    {
     "data": {
      "text/plain": [
       "['Barrio Plaza Ñuñoa',\n",
       " 'Barrio Diego de Almagro',\n",
       " 'Barrio Amapolas',\n",
       " 'Barrio Pucará',\n",
       " 'Barrio Parque Botánico',\n",
       " 'Barrio Montenegro',\n",
       " 'Barrio Los Guindos o Plaza Egaña',\n",
       " 'Barrio Micalvi',\n",
       " 'Barrio Parque Juan XXIII',\n",
       " 'Barrio José Pedro Alessandri',\n",
       " 'Barrio Regina Pacis',\n",
       " 'Barrio El Aguilucho',\n",
       " 'Barrio Villaseca',\n",
       " 'Barrio Plaza Sucre',\n",
       " 'Barrio Suboficiales de Caballería',\n",
       " 'Barrio Guillermo Franke',\n",
       " 'Barrio Italia',\n",
       " 'Barrio Pedro de Valvidia',\n",
       " 'Barrio Plaza Zañartu',\n",
       " 'Barrio Dr. Luis Bisquert',\n",
       " 'Barrio Simón Bolívar',\n",
       " 'Barrio Eusebio Lillo',\n",
       " 'Barrio Parque del Deporte',\n",
       " 'Barrio Estadio Nacional',\n",
       " \"Barrio Bernardo O'Higgins\",\n",
       " 'Barrio Javiera Carrera',\n",
       " 'Barrio Irarrázaval',\n",
       " 'Barrio Hernán Cortés',\n",
       " 'Barrio Suárez Mujica',\n",
       " 'Barrio Industrial Lo Encalada',\n",
       " 'Barrio Colo Colo',\n",
       " 'Barrio Parque San Eugenio',\n",
       " 'Barrio Empart',\n",
       " 'Villa Presidente Frei',\n",
       " 'Villa Los Jardines',\n",
       " 'Villa Lo Plaza',\n",
       " 'Villa Los Presidentes',\n",
       " 'Villa Los Alerces',\n",
       " 'Villa Olímpica',\n",
       " 'Villa Salvador Cruz Gana',\n",
       " 'Villa Rebeca Matte',\n",
       " 'Villa Exequiel González Cortés',\n",
       " 'Población Rosita Renard',\n",
       " 'Población Santa Julia']"
      ]
     },
     "execution_count": 4,
     "metadata": {},
     "output_type": "execute_result"
    }
   ],
   "source": [
    "nunoa_communes_text = requests.get('https://es.wikipedia.org/wiki/%C3%91u%C3%B1oa').text\n",
    "soup = BeautifulSoup(nunoa_communes_text, 'html.parser')\n",
    "n_neighborhoods = list(filter(None,[(raw_neighborhood.string) for raw_neighborhood in soup.find(id='Listado_de_barrios').parent.next_sibling.next_sibling.find_all('li')]))\n",
    "n_neighborhoods"
   ]
  },
  {
   "cell_type": "markdown",
   "metadata": {},
   "source": [
    "#### Now get locations"
   ]
  },
  {
   "cell_type": "code",
   "execution_count": 5,
   "metadata": {},
   "outputs": [
    {
     "data": {
      "text/html": [
       "<div>\n",
       "<style scoped>\n",
       "    .dataframe tbody tr th:only-of-type {\n",
       "        vertical-align: middle;\n",
       "    }\n",
       "\n",
       "    .dataframe tbody tr th {\n",
       "        vertical-align: top;\n",
       "    }\n",
       "\n",
       "    .dataframe thead th {\n",
       "        text-align: right;\n",
       "    }\n",
       "</style>\n",
       "<table border=\"1\" class=\"dataframe\">\n",
       "  <thead>\n",
       "    <tr style=\"text-align: right;\">\n",
       "      <th></th>\n",
       "      <th>Commune</th>\n",
       "      <th>Neighbourhood</th>\n",
       "      <th>Latitude</th>\n",
       "      <th>Longitude</th>\n",
       "    </tr>\n",
       "  </thead>\n",
       "  <tbody>\n",
       "    <tr>\n",
       "      <th>0</th>\n",
       "      <td>22, Cali, Colombia</td>\n",
       "      <td>Urbanización Ciudad Jardín</td>\n",
       "      <td>3.36348</td>\n",
       "      <td>-76.53550</td>\n",
       "    </tr>\n",
       "    <tr>\n",
       "      <th>1</th>\n",
       "      <td>22, Cali, Colombia</td>\n",
       "      <td>Altos de Ciudad de Jardín</td>\n",
       "      <td>3.42448</td>\n",
       "      <td>-76.51734</td>\n",
       "    </tr>\n",
       "    <tr>\n",
       "      <th>2</th>\n",
       "      <td>22, Cali, Colombia</td>\n",
       "      <td>La Bocha</td>\n",
       "      <td>5.35000</td>\n",
       "      <td>-74.71667</td>\n",
       "    </tr>\n",
       "    <tr>\n",
       "      <th>3</th>\n",
       "      <td>22, Cali, Colombia</td>\n",
       "      <td>Bochalema</td>\n",
       "      <td>7.61094</td>\n",
       "      <td>-72.64755</td>\n",
       "    </tr>\n",
       "    <tr>\n",
       "      <th>4</th>\n",
       "      <td>22, Cali, Colombia</td>\n",
       "      <td>Parcelaciones Pance</td>\n",
       "      <td>3.34642</td>\n",
       "      <td>-76.53621</td>\n",
       "    </tr>\n",
       "  </tbody>\n",
       "</table>\n",
       "</div>"
      ],
      "text/plain": [
       "              Commune               Neighbourhood  Latitude  Longitude\n",
       "0  22, Cali, Colombia  Urbanización Ciudad Jardín   3.36348  -76.53550\n",
       "1  22, Cali, Colombia   Altos de Ciudad de Jardín   3.42448  -76.51734\n",
       "2  22, Cali, Colombia                    La Bocha   5.35000  -74.71667\n",
       "3  22, Cali, Colombia                   Bochalema   7.61094  -72.64755\n",
       "4  22, Cali, Colombia         Parcelaciones Pance   3.34642  -76.53621"
      ]
     },
     "execution_count": 5,
     "metadata": {},
     "output_type": "execute_result"
    }
   ],
   "source": [
    "import geocoder\n",
    "c_lats = []\n",
    "c_lngs = []\n",
    "for c in c_neighborhoods:\n",
    "    g = geocoder.arcgis('{}, Cali, Colombia'.format(c))\n",
    "    c_lats.append(g.latlng[0])\n",
    "    c_lngs.append(g.latlng[1])\n",
    "df_c = pd.DataFrame(data={'Commune': '22, Cali, Colombia', 'Neighbourhood': c_neighborhoods, 'Latitude': c_lats, 'Longitude': c_lngs})\n",
    "df_c.head()\n",
    "    "
   ]
  },
  {
   "cell_type": "code",
   "execution_count": 6,
   "metadata": {},
   "outputs": [
    {
     "data": {
      "text/html": [
       "<div>\n",
       "<style scoped>\n",
       "    .dataframe tbody tr th:only-of-type {\n",
       "        vertical-align: middle;\n",
       "    }\n",
       "\n",
       "    .dataframe tbody tr th {\n",
       "        vertical-align: top;\n",
       "    }\n",
       "\n",
       "    .dataframe thead th {\n",
       "        text-align: right;\n",
       "    }\n",
       "</style>\n",
       "<table border=\"1\" class=\"dataframe\">\n",
       "  <thead>\n",
       "    <tr style=\"text-align: right;\">\n",
       "      <th></th>\n",
       "      <th>Commune</th>\n",
       "      <th>Neighbourhood</th>\n",
       "      <th>Latitude</th>\n",
       "      <th>Longitude</th>\n",
       "    </tr>\n",
       "  </thead>\n",
       "  <tbody>\n",
       "    <tr>\n",
       "      <th>0</th>\n",
       "      <td>Ñuñoa, Santiago de Chile</td>\n",
       "      <td>Barrio Plaza Ñuñoa</td>\n",
       "      <td>-33.461709</td>\n",
       "      <td>-70.585497</td>\n",
       "    </tr>\n",
       "    <tr>\n",
       "      <th>1</th>\n",
       "      <td>Ñuñoa, Santiago de Chile</td>\n",
       "      <td>Barrio Diego de Almagro</td>\n",
       "      <td>-33.437963</td>\n",
       "      <td>-70.579519</td>\n",
       "    </tr>\n",
       "    <tr>\n",
       "      <th>2</th>\n",
       "      <td>Ñuñoa, Santiago de Chile</td>\n",
       "      <td>Barrio Amapolas</td>\n",
       "      <td>-33.440349</td>\n",
       "      <td>-70.573968</td>\n",
       "    </tr>\n",
       "    <tr>\n",
       "      <th>3</th>\n",
       "      <td>Ñuñoa, Santiago de Chile</td>\n",
       "      <td>Barrio Pucará</td>\n",
       "      <td>-33.445045</td>\n",
       "      <td>-70.582550</td>\n",
       "    </tr>\n",
       "    <tr>\n",
       "      <th>4</th>\n",
       "      <td>Ñuñoa, Santiago de Chile</td>\n",
       "      <td>Barrio Parque Botánico</td>\n",
       "      <td>-33.455210</td>\n",
       "      <td>-70.593880</td>\n",
       "    </tr>\n",
       "  </tbody>\n",
       "</table>\n",
       "</div>"
      ],
      "text/plain": [
       "                    Commune            Neighbourhood   Latitude  Longitude\n",
       "0  Ñuñoa, Santiago de Chile       Barrio Plaza Ñuñoa -33.461709 -70.585497\n",
       "1  Ñuñoa, Santiago de Chile  Barrio Diego de Almagro -33.437963 -70.579519\n",
       "2  Ñuñoa, Santiago de Chile          Barrio Amapolas -33.440349 -70.573968\n",
       "3  Ñuñoa, Santiago de Chile            Barrio Pucará -33.445045 -70.582550\n",
       "4  Ñuñoa, Santiago de Chile   Barrio Parque Botánico -33.455210 -70.593880"
      ]
     },
     "execution_count": 6,
     "metadata": {},
     "output_type": "execute_result"
    }
   ],
   "source": [
    "n_lats = []\n",
    "n_lngs = []\n",
    "for c in n_neighborhoods:\n",
    "    g = geocoder.arcgis('{}, Ñuñoa, Santiago de Chile'.format(c))\n",
    "    n_lats.append(g.latlng[0])\n",
    "    n_lngs.append(g.latlng[1])\n",
    "df_n = pd.DataFrame(data={'Commune': 'Ñuñoa, Santiago de Chile', 'Neighbourhood': n_neighborhoods, 'Latitude': n_lats, 'Longitude': n_lngs})\n",
    "df_n.head()"
   ]
  },
  {
   "cell_type": "code",
   "execution_count": 25,
   "metadata": {},
   "outputs": [
    {
     "name": "stdout",
     "output_type": "stream",
     "text": [
      "(53, 4)\n"
     ]
    },
    {
     "data": {
      "text/html": [
       "<div>\n",
       "<style scoped>\n",
       "    .dataframe tbody tr th:only-of-type {\n",
       "        vertical-align: middle;\n",
       "    }\n",
       "\n",
       "    .dataframe tbody tr th {\n",
       "        vertical-align: top;\n",
       "    }\n",
       "\n",
       "    .dataframe thead th {\n",
       "        text-align: right;\n",
       "    }\n",
       "</style>\n",
       "<table border=\"1\" class=\"dataframe\">\n",
       "  <thead>\n",
       "    <tr style=\"text-align: right;\">\n",
       "      <th></th>\n",
       "      <th>Commune</th>\n",
       "      <th>Neighbourhood</th>\n",
       "      <th>Latitude</th>\n",
       "      <th>Longitude</th>\n",
       "    </tr>\n",
       "  </thead>\n",
       "  <tbody>\n",
       "    <tr>\n",
       "      <th>0</th>\n",
       "      <td>22, Cali, Colombia</td>\n",
       "      <td>Urbanización Ciudad Jardín</td>\n",
       "      <td>3.363480</td>\n",
       "      <td>-76.535500</td>\n",
       "    </tr>\n",
       "    <tr>\n",
       "      <th>1</th>\n",
       "      <td>22, Cali, Colombia</td>\n",
       "      <td>Altos de Ciudad de Jardín</td>\n",
       "      <td>3.424480</td>\n",
       "      <td>-76.517340</td>\n",
       "    </tr>\n",
       "    <tr>\n",
       "      <th>2</th>\n",
       "      <td>22, Cali, Colombia</td>\n",
       "      <td>La Bocha</td>\n",
       "      <td>5.350000</td>\n",
       "      <td>-74.716670</td>\n",
       "    </tr>\n",
       "    <tr>\n",
       "      <th>3</th>\n",
       "      <td>22, Cali, Colombia</td>\n",
       "      <td>Bochalema</td>\n",
       "      <td>7.610940</td>\n",
       "      <td>-72.647550</td>\n",
       "    </tr>\n",
       "    <tr>\n",
       "      <th>4</th>\n",
       "      <td>22, Cali, Colombia</td>\n",
       "      <td>Parcelaciones Pance</td>\n",
       "      <td>3.346420</td>\n",
       "      <td>-76.536210</td>\n",
       "    </tr>\n",
       "    <tr>\n",
       "      <th>5</th>\n",
       "      <td>22, Cali, Colombia</td>\n",
       "      <td>Urbanización Río Lili</td>\n",
       "      <td>3.365010</td>\n",
       "      <td>-76.527620</td>\n",
       "    </tr>\n",
       "    <tr>\n",
       "      <th>6</th>\n",
       "      <td>22, Cali, Colombia</td>\n",
       "      <td>Alférez Real</td>\n",
       "      <td>3.389970</td>\n",
       "      <td>-76.547970</td>\n",
       "    </tr>\n",
       "    <tr>\n",
       "      <th>7</th>\n",
       "      <td>22, Cali, Colombia</td>\n",
       "      <td>Ciudad Campestre</td>\n",
       "      <td>3.369900</td>\n",
       "      <td>-76.539450</td>\n",
       "    </tr>\n",
       "    <tr>\n",
       "      <th>8</th>\n",
       "      <td>22, Cali, Colombia</td>\n",
       "      <td>Ciudad Pacífica</td>\n",
       "      <td>3.457600</td>\n",
       "      <td>-76.535540</td>\n",
       "    </tr>\n",
       "    <tr>\n",
       "      <th>9</th>\n",
       "      <td>Ñuñoa, Santiago de Chile</td>\n",
       "      <td>Barrio Plaza Ñuñoa</td>\n",
       "      <td>-33.461709</td>\n",
       "      <td>-70.585497</td>\n",
       "    </tr>\n",
       "  </tbody>\n",
       "</table>\n",
       "</div>"
      ],
      "text/plain": [
       "                    Commune               Neighbourhood   Latitude  Longitude\n",
       "0        22, Cali, Colombia  Urbanización Ciudad Jardín   3.363480 -76.535500\n",
       "1        22, Cali, Colombia   Altos de Ciudad de Jardín   3.424480 -76.517340\n",
       "2        22, Cali, Colombia                    La Bocha   5.350000 -74.716670\n",
       "3        22, Cali, Colombia                   Bochalema   7.610940 -72.647550\n",
       "4        22, Cali, Colombia         Parcelaciones Pance   3.346420 -76.536210\n",
       "5        22, Cali, Colombia       Urbanización Río Lili   3.365010 -76.527620\n",
       "6        22, Cali, Colombia                Alférez Real   3.389970 -76.547970\n",
       "7        22, Cali, Colombia            Ciudad Campestre   3.369900 -76.539450\n",
       "8        22, Cali, Colombia             Ciudad Pacífica   3.457600 -76.535540\n",
       "9  Ñuñoa, Santiago de Chile          Barrio Plaza Ñuñoa -33.461709 -70.585497"
      ]
     },
     "execution_count": 25,
     "metadata": {},
     "output_type": "execute_result"
    }
   ],
   "source": [
    "df = pd.concat([df_c, df_n], ignore_index=True, sort=False)\n",
    "print(df.shape)\n",
    "df.head(10)"
   ]
  },
  {
   "cell_type": "markdown",
   "metadata": {},
   "source": [
    "#### Obtaining the venues and their likes"
   ]
  },
  {
   "cell_type": "code",
   "execution_count": 17,
   "metadata": {},
   "outputs": [],
   "source": [
    "CLIENT_ID = '1CG02IBFH3BMIUN3FX43OFI3KMTM2FD00ESGHSGP23ODY2M2' # your Foursquare ID\n",
    "CLIENT_SECRET = 'PRD3I02CL3KM5I5YU4TZ5HWFBEHTX4S0F5WDUND2EB5EEOLR' # your Foursquare Secret\n",
    "VERSION = '20200719'\n",
    "LIMIT = 10\n",
    "radius = 200"
   ]
  },
  {
   "cell_type": "code",
   "execution_count": 22,
   "metadata": {},
   "outputs": [],
   "source": [
    "def getNearbyVenues(names, latitudes, longitudes, radius=300):\n",
    "    \n",
    "    venues_list=[]\n",
    "    for name, lat, lng in zip(names, latitudes, longitudes):\n",
    "        print(name)\n",
    "            \n",
    "        #Explore the venue\n",
    "        url = 'https://api.foursquare.com/v2/venues/explore?&client_id={}&client_secret={}&v={}&ll={},{}&radius={}&limit={}'.format(\n",
    "            CLIENT_ID, \n",
    "            CLIENT_SECRET, \n",
    "            VERSION, \n",
    "            lat, \n",
    "            lng, \n",
    "            radius, \n",
    "            LIMIT)\n",
    "        response = requests.get(url).json()[\"response\"]\n",
    "        print(response)\n",
    "        results= response['groups'][0]['items']\n",
    "    \n",
    "        urlLikesFormat = 'https://api.foursquare.com/v2/venues/{}/likes?client_id={}&client_secret={}&ll={},{}&v={}&radius={}&limit={}'\n",
    "        \n",
    "        # return only relevant information for each nearby venue\n",
    "        venues_list.append([(\n",
    "            name, \n",
    "            lat, \n",
    "            lng, \n",
    "            v['venue']['name'], \n",
    "            v['venue']['id'], \n",
    "            requests.get(urlLikesFormat.format(v['venue']['id'], CLIENT_ID, CLIENT_SECRET, latitude, longitude, VERSION, radius, LIMIT)).json()[\"response\"][\"likes\"][\"count\"],\n",
    "            v['venue']['location']['lat'], \n",
    "            v['venue']['location']['lng'],  \n",
    "            v['venue']['categories'][0]['name']) for v in results])\n",
    "\n",
    "    nearby_venues = pd.DataFrame([item for venue_list in venues_list for item in venue_list])\n",
    "    nearby_venues.columns = ['Neighborhood', \n",
    "                  'Neighborhood Latitude', \n",
    "                  'Neighborhood Longitude', \n",
    "                  'Venue',  \n",
    "                  'Venue Id',   \n",
    "                  'Venue Likes', \n",
    "                  'Venue Latitude', \n",
    "                  'Venue Longitude', \n",
    "                  'Venue Category']\n",
    "    \n",
    "    return(nearby_venues)"
   ]
  },
  {
   "cell_type": "code",
   "execution_count": 23,
   "metadata": {
    "scrolled": true
   },
   "outputs": [
    {
     "name": "stdout",
     "output_type": "stream",
     "text": [
      "Urbanización Ciudad Jardín\n",
      "{}\n"
     ]
    },
    {
     "ename": "KeyError",
     "evalue": "'groups'",
     "output_type": "error",
     "traceback": [
      "\u001b[1;31m---------------------------------------------------------------------------\u001b[0m",
      "\u001b[1;31mKeyError\u001b[0m                                  Traceback (most recent call last)",
      "\u001b[1;32m<ipython-input-23-01662628f2e3>\u001b[0m in \u001b[0;36m<module>\u001b[1;34m\u001b[0m\n\u001b[1;32m----> 1\u001b[1;33m \u001b[0mvenues\u001b[0m \u001b[1;33m=\u001b[0m \u001b[0mgetNearbyVenues\u001b[0m\u001b[1;33m(\u001b[0m\u001b[0mdf\u001b[0m\u001b[1;33m[\u001b[0m\u001b[1;34m'Neighbourhood'\u001b[0m\u001b[1;33m]\u001b[0m\u001b[1;33m.\u001b[0m\u001b[0mto_list\u001b[0m\u001b[1;33m(\u001b[0m\u001b[1;33m)\u001b[0m\u001b[1;33m,\u001b[0m \u001b[0mdf\u001b[0m\u001b[1;33m[\u001b[0m\u001b[1;34m'Latitude'\u001b[0m\u001b[1;33m]\u001b[0m\u001b[1;33m.\u001b[0m\u001b[0mto_list\u001b[0m\u001b[1;33m(\u001b[0m\u001b[1;33m)\u001b[0m\u001b[1;33m,\u001b[0m \u001b[0mdf\u001b[0m\u001b[1;33m[\u001b[0m\u001b[1;34m'Longitude'\u001b[0m\u001b[1;33m]\u001b[0m\u001b[1;33m.\u001b[0m\u001b[0mto_list\u001b[0m\u001b[1;33m(\u001b[0m\u001b[1;33m)\u001b[0m\u001b[1;33m)\u001b[0m\u001b[1;33m\u001b[0m\u001b[1;33m\u001b[0m\u001b[0m\n\u001b[0m\u001b[0;32m      2\u001b[0m \u001b[0mvenues\u001b[0m\u001b[1;33m\u001b[0m\u001b[1;33m\u001b[0m\u001b[0m\n",
      "\u001b[1;32m<ipython-input-22-2eb0dcb8feed>\u001b[0m in \u001b[0;36mgetNearbyVenues\u001b[1;34m(names, latitudes, longitudes, radius)\u001b[0m\n\u001b[0;32m     16\u001b[0m         \u001b[0mresponse\u001b[0m \u001b[1;33m=\u001b[0m \u001b[0mrequests\u001b[0m\u001b[1;33m.\u001b[0m\u001b[0mget\u001b[0m\u001b[1;33m(\u001b[0m\u001b[0murl\u001b[0m\u001b[1;33m)\u001b[0m\u001b[1;33m.\u001b[0m\u001b[0mjson\u001b[0m\u001b[1;33m(\u001b[0m\u001b[1;33m)\u001b[0m\u001b[1;33m[\u001b[0m\u001b[1;34m\"response\"\u001b[0m\u001b[1;33m]\u001b[0m\u001b[1;33m\u001b[0m\u001b[1;33m\u001b[0m\u001b[0m\n\u001b[0;32m     17\u001b[0m         \u001b[0mprint\u001b[0m\u001b[1;33m(\u001b[0m\u001b[0mresponse\u001b[0m\u001b[1;33m)\u001b[0m\u001b[1;33m\u001b[0m\u001b[1;33m\u001b[0m\u001b[0m\n\u001b[1;32m---> 18\u001b[1;33m         \u001b[0mresults\u001b[0m\u001b[1;33m=\u001b[0m \u001b[0mresponse\u001b[0m\u001b[1;33m[\u001b[0m\u001b[1;34m'groups'\u001b[0m\u001b[1;33m]\u001b[0m\u001b[1;33m[\u001b[0m\u001b[1;36m0\u001b[0m\u001b[1;33m]\u001b[0m\u001b[1;33m[\u001b[0m\u001b[1;34m'items'\u001b[0m\u001b[1;33m]\u001b[0m\u001b[1;33m\u001b[0m\u001b[1;33m\u001b[0m\u001b[0m\n\u001b[0m\u001b[0;32m     19\u001b[0m \u001b[1;33m\u001b[0m\u001b[0m\n\u001b[0;32m     20\u001b[0m         \u001b[0murlLikesFormat\u001b[0m \u001b[1;33m=\u001b[0m \u001b[1;34m'https://api.foursquare.com/v2/venues/{}/likes?client_id={}&client_secret={}&ll={},{}&v={}&radius={}&limit={}'\u001b[0m\u001b[1;33m\u001b[0m\u001b[1;33m\u001b[0m\u001b[0m\n",
      "\u001b[1;31mKeyError\u001b[0m: 'groups'"
     ]
    }
   ],
   "source": [
    "venues = getNearbyVenues(df['Neighbourhood'].to_list(), df['Latitude'].to_list(), df['Longitude'].to_list())\n",
    "venues"
   ]
  },
  {
   "cell_type": "code",
   "execution_count": null,
   "metadata": {},
   "outputs": [],
   "source": []
  },
  {
   "cell_type": "markdown",
   "metadata": {},
   "source": [
    "## Methodology <a name=\"methodology\"></a> "
   ]
  },
  {
   "cell_type": "markdown",
   "metadata": {},
   "source": [
    "In this project the effort will be on detecting areas of the communes of Ñuñoa and 22 that have a variety of places nearby, specially markets, restaurants and parks, highly recognized, using likes in Foursquare. The analysis will be limited by the area covered by both communes.\n",
    "\n",
    "In first step the collected data have been collected: location, type (category) and likes of every place within the limits of the neighborhoods.\n",
    "\n",
    "Second step will be the calculation and exploration of variety of places across different areas, being prioritary markets and parks of both communes and the likes - heatmaps will be used to identify promising areas with a variety of places in general and likes.\n",
    "\n",
    "In third and final step the focus will be on the most promising areas and within those create clusters of locations that meet basic requirements: at least 1 market, 1 park, 1 restaurant and 1 gym with at least 100 likes within 300 meters. Finally a map will show the resulting locations and the clusters (using k-means clustering) to identify general zones recommended for living and help with the decision making.\n"
   ]
  },
  {
   "cell_type": "markdown",
   "metadata": {},
   "source": [
    "## Analysis <a name=\"analysis\"></a> "
   ]
  },
  {
   "cell_type": "markdown",
   "metadata": {},
   "source": [
    "#### First, obtain let's cluster the data "
   ]
  },
  {
   "cell_type": "code",
   "execution_count": null,
   "metadata": {},
   "outputs": [],
   "source": []
  },
  {
   "cell_type": "markdown",
   "metadata": {},
   "source": [
    "## Results and Discussion <a name=\"results\"></a>"
   ]
  },
  {
   "cell_type": "code",
   "execution_count": null,
   "metadata": {},
   "outputs": [],
   "source": []
  },
  {
   "cell_type": "markdown",
   "metadata": {},
   "source": [
    "## Conclusion <a name=\"conclusion\"></a> "
   ]
  },
  {
   "cell_type": "code",
   "execution_count": null,
   "metadata": {},
   "outputs": [],
   "source": []
  }
 ],
 "metadata": {
  "kernelspec": {
   "display_name": "Python 3",
   "language": "python",
   "name": "python3"
  },
  "language_info": {
   "codemirror_mode": {
    "name": "ipython",
    "version": 3
   },
   "file_extension": ".py",
   "mimetype": "text/x-python",
   "name": "python",
   "nbconvert_exporter": "python",
   "pygments_lexer": "ipython3",
   "version": "3.8.4"
  }
 },
 "nbformat": 4,
 "nbformat_minor": 4
}
